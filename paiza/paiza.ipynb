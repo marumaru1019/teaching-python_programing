{
 "cells": [
  {
   "cell_type": "markdown",
   "metadata": {},
   "source": [
    "# D003"
   ]
  },
  {
   "cell_type": "code",
   "execution_count": 1,
   "metadata": {},
   "outputs": [
    {
     "name": "stdout",
     "output_type": "stream",
     "text": [
      "5\n",
      "5 10 15 20 25 30 35 40 45\n"
     ]
    }
   ],
   "source": [
    "n = int(input())\n",
    "list_num = [str((i+1)*n) for i in range(9)]\n",
    "print(\" \".join(list_num))"
   ]
  },
  {
   "cell_type": "markdown",
   "metadata": {},
   "source": [
    "# D4"
   ]
  },
  {
   "cell_type": "code",
   "execution_count": 59,
   "metadata": {},
   "outputs": [
    {
     "name": "stdout",
     "output_type": "stream",
     "text": [
      "2\n",
      "Paiza\n",
      "Gino\n"
     ]
    }
   ],
   "source": [
    "n = int(input())\n",
    "\n",
    "sts = []\n",
    "\n",
    "for i  in range(n):\n",
    "    st = input()\n",
    "    sts.append(st)\n",
    "\n",
    "\n",
    "print(\"Hello\", \",\".join(sts)+\".\")"
   ]
  },
  {
   "cell_type": "code",
   "execution_count": 20,
   "metadata": {},
   "outputs": [
    {
     "name": "stdout",
     "output_type": "stream",
     "text": [
      "a\n",
      "b\n",
      "c\n"
     ]
    }
   ],
   "source": [
    "a = {}\n",
    "\n",
    "for i in range(3):\n",
    "    a[i] = input()"
   ]
  },
  {
   "cell_type": "code",
   "execution_count": 27,
   "metadata": {},
   "outputs": [],
   "source": [
    "f(x) = 2*x + 3"
   ]
  },
  {
   "cell_type": "code",
   "execution_count": 28,
   "metadata": {},
   "outputs": [],
   "source": [
    "def f(x, y):\n",
    "    return 2*x + 3*y"
   ]
  },
  {
   "cell_type": "code",
   "execution_count": 31,
   "metadata": {},
   "outputs": [
    {
     "ename": "NameError",
     "evalue": "name 'n' is not defined",
     "output_type": "error",
     "traceback": [
      "\u001b[0;31m---------------------------------------------------------------------------\u001b[0m",
      "\u001b[0;31mNameError\u001b[0m                                 Traceback (most recent call last)",
      "\u001b[0;32m<ipython-input-31-20a5edcd9f7e>\u001b[0m in \u001b[0;36m<module>\u001b[0;34m\u001b[0m\n\u001b[0;32m----> 1\u001b[0;31m \u001b[0mf\u001b[0m\u001b[0;34m(\u001b[0m\u001b[0mn\u001b[0m\u001b[0;34m)\u001b[0m\u001b[0;34m\u001b[0m\u001b[0;34m\u001b[0m\u001b[0m\n\u001b[0m",
      "\u001b[0;31mNameError\u001b[0m: name 'n' is not defined"
     ]
    }
   ],
   "source": [
    "f(n)"
   ]
  },
  {
   "cell_type": "markdown",
   "metadata": {},
   "source": [
    "# D134"
   ]
  },
  {
   "cell_type": "code",
   "execution_count": 64,
   "metadata": {},
   "outputs": [
    {
     "name": "stdout",
     "output_type": "stream",
     "text": [
      "PaizaPaizaPaiza\n",
      "PaizaPaiza\n",
      "Paiza\n"
     ]
    }
   ],
   "source": [
    "import math\n",
    "\n",
    "string = input()\n",
    "\n",
    "for i in range(math.ceil(len(string)/10)):\n",
    "    print(string[i*10: (i+1)*10])"
   ]
  },
  {
   "cell_type": "markdown",
   "metadata": {},
   "source": [
    "# D110"
   ]
  },
  {
   "cell_type": "code",
   "execution_count": null,
   "metadata": {},
   "outputs": [],
   "source": [
    "a = list(map(int, input().split()))\n",
    "\n",
    "k = 1\n",
    "for i in a:\n",
    "    k *=i\n",
    "print(k)"
   ]
  },
  {
   "cell_type": "markdown",
   "metadata": {},
   "source": [
    "# D145"
   ]
  },
  {
   "cell_type": "code",
   "execution_count": 1,
   "metadata": {},
   "outputs": [
    {
     "name": "stdout",
     "output_type": "stream",
     "text": [
      "40 9\n",
      "4\n"
     ]
    }
   ],
   "source": [
    "import math\n",
    "\n",
    "n, m = input().split()\n",
    "n, m = int(n), int(m)\n",
    "\n",
    "print(math.floor(n/m))"
   ]
  },
  {
   "cell_type": "markdown",
   "metadata": {},
   "source": [
    "# C88"
   ]
  },
  {
   "cell_type": "code",
   "execution_count": 76,
   "metadata": {},
   "outputs": [
    {
     "name": "stdout",
     "output_type": "stream",
     "text": [
      "dd\n"
     ]
    },
    {
     "ename": "ValueError",
     "evalue": "invalid literal for int() with base 10: 'dd'",
     "output_type": "error",
     "traceback": [
      "\u001b[0;31m---------------------------------------------------------------------------\u001b[0m",
      "\u001b[0;31mValueError\u001b[0m                                Traceback (most recent call last)",
      "\u001b[0;32m<ipython-input-76-cbd6b45b1ffd>\u001b[0m in \u001b[0;36m<module>\u001b[0;34m\u001b[0m\n\u001b[0;32m----> 1\u001b[0;31m \u001b[0mn\u001b[0m \u001b[0;34m=\u001b[0m \u001b[0mint\u001b[0m\u001b[0;34m(\u001b[0m\u001b[0minput\u001b[0m\u001b[0;34m(\u001b[0m\u001b[0;34m)\u001b[0m\u001b[0;34m)\u001b[0m\u001b[0;34m\u001b[0m\u001b[0;34m\u001b[0m\u001b[0m\n\u001b[0m\u001b[1;32m      2\u001b[0m \u001b[0;34m\u001b[0m\u001b[0m\n\u001b[1;32m      3\u001b[0m \u001b[0mitems\u001b[0m \u001b[0;34m=\u001b[0m \u001b[0mlist\u001b[0m\u001b[0;34m(\u001b[0m\u001b[0mmap\u001b[0m\u001b[0;34m(\u001b[0m\u001b[0mint\u001b[0m\u001b[0;34m,\u001b[0m\u001b[0minput\u001b[0m\u001b[0;34m(\u001b[0m\u001b[0;34m)\u001b[0m\u001b[0;34m.\u001b[0m\u001b[0msplit\u001b[0m\u001b[0;34m(\u001b[0m\u001b[0;34m)\u001b[0m\u001b[0;34m)\u001b[0m\u001b[0;34m)\u001b[0m\u001b[0;34m\u001b[0m\u001b[0;34m\u001b[0m\u001b[0m\n\u001b[1;32m      4\u001b[0m \u001b[0;34m\u001b[0m\u001b[0m\n\u001b[1;32m      5\u001b[0m \u001b[0mt\u001b[0m\u001b[0;34m,\u001b[0m \u001b[0mq\u001b[0m \u001b[0;34m=\u001b[0m \u001b[0minput\u001b[0m\u001b[0;34m(\u001b[0m\u001b[0;34m)\u001b[0m\u001b[0;34m.\u001b[0m\u001b[0msplit\u001b[0m\u001b[0;34m(\u001b[0m\u001b[0;34m)\u001b[0m\u001b[0;34m\u001b[0m\u001b[0;34m\u001b[0m\u001b[0m\n",
      "\u001b[0;31mValueError\u001b[0m: invalid literal for int() with base 10: 'dd'"
     ]
    }
   ],
   "source": [
    "n = int(input())\n",
    "\n",
    "items = list(map(int,input().split()))\n",
    "\n",
    "t, q = input().split()\n",
    "t,q = int(t), int(q)\n",
    "\n",
    "for i in range(q):\n",
    "    key, value = input().split()\n",
    "    key, value = int(key), int(value)\n",
    "    \n",
    "    if t >= items[key-1]* value:\n",
    "        t -= items[key-1]* value\n",
    "    else:\n",
    "        pass\n",
    "print(t)"
   ]
  },
  {
   "cell_type": "code",
   "execution_count": 12,
   "metadata": {},
   "outputs": [
    {
     "name": "stdout",
     "output_type": "stream",
     "text": [
      "1 2\n"
     ]
    }
   ],
   "source": [
    "status1, status2 = input().split()"
   ]
  },
  {
   "cell_type": "code",
   "execution_count": 14,
   "metadata": {},
   "outputs": [
    {
     "data": {
      "text/plain": [
       "'2'"
      ]
     },
     "execution_count": 14,
     "metadata": {},
     "output_type": "execute_result"
    }
   ],
   "source": [
    "status2"
   ]
  },
  {
   "cell_type": "markdown",
   "metadata": {},
   "source": [
    "# C72"
   ]
  },
  {
   "cell_type": "code",
   "execution_count": 17,
   "metadata": {},
   "outputs": [
    {
     "name": "stdout",
     "output_type": "stream",
     "text": [
      "100 150 200\n",
      "3\n",
      "paizabird 100 200 130 180 80 120\n",
      "paizawolf 180 220 100 120 90 140\n",
      "paizasheep 80 110 150 220 170 250\n"
     ]
    }
   ],
   "source": [
    "# ステータス\n",
    "status = input().split()\n",
    "\n",
    "# 進化の種類\n",
    "n = int(input())\n",
    "\n",
    "# 進化系統の入力\n",
    "keis = []\n",
    "for i in range(n):\n",
    "    kei = input().split()\n",
    "    keis.append(kei)\n",
    "\n",
    "# ステータスを数値に変換\n",
    "int_status = []\n",
    "\n",
    "for i in status:\n",
    "    int_status.append(int(i))\n",
    "    \n",
    "# 比較する\n",
    "\n",
    "check = []\n",
    "for i in keis:\n",
    "    if int(i[1]) <= int_status[0] and  int(i[2]) >= int_status[0] and int(i[3]) <= int_status[1] and  int(i[4]) >= int_status[1] and  int(i[5]) <= int_status[2] and  int(i[6]) >= int_status[2]:\n",
    "        check.append(i[0])\n",
    "    else:\n",
    "        pass\n",
    "    \n",
    "if len(check) == 0:\n",
    "    print(\"no evolution\")\n",
    "    \n",
    "else:\n",
    "    for k in check:\n",
    "        print(k)"
   ]
  },
  {
   "cell_type": "markdown",
   "metadata": {},
   "source": [
    "# C39"
   ]
  },
  {
   "cell_type": "code",
   "execution_count": null,
   "metadata": {},
   "outputs": [],
   "source": [
    "kigo = input()\n",
    "\n",
    "kei = 0\n",
    "\n",
    "for i in range(len(kigo)):\n",
    "    \n",
    "    if kigo[i] == \"/\":\n",
    "        kei += 1\n",
    "    elif kigo[i] == \"<\":\n",
    "        kei += 10\n",
    "    else:\n",
    "        pass\n",
    "    \n",
    "print(kei)"
   ]
  },
  {
   "cell_type": "markdown",
   "metadata": {},
   "source": [
    "# C79"
   ]
  },
  {
   "cell_type": "code",
   "execution_count": 34,
   "metadata": {},
   "outputs": [
    {
     "name": "stdout",
     "output_type": "stream",
     "text": [
      "7 4\n",
      "1\n",
      "ない\n",
      "2\n",
      "ない\n",
      "3\n",
      "ない\n",
      "1\n",
      "ある\n",
      "2\n",
      "ある\n",
      "3\n",
      "ある\n",
      "1\n",
      "ある\n",
      "unlucky\n"
     ]
    }
   ],
   "source": [
    "n, m = input().split()\n",
    "n, m = int(n), int(m)\n",
    "\n",
    "check = 0\n",
    "check_list = []\n",
    "\n",
    "comp = False\n",
    "\n",
    "for i in range(n):\n",
    "    \n",
    "    card = int(input())\n",
    "    \n",
    "    if card in check_list:\n",
    "        check += 0\n",
    "        check_list.append(card)\n",
    "        \n",
    "    elif card not in check_list:\n",
    "        check += 1\n",
    "        check_list.append(card)\n",
    "    \n",
    "    if check == m and comp == False:\n",
    "        check_num =  i+1\n",
    "        comp = True\n",
    "        \n",
    "    elif check != m and comp == True:\n",
    "        pass\n",
    "    \n",
    "    elif check != m and comp == False:\n",
    "        check_num = \"unlucky\"\n",
    "    \n",
    "print(check_num)"
   ]
  },
  {
   "cell_type": "markdown",
   "metadata": {},
   "source": [
    "# C74"
   ]
  },
  {
   "cell_type": "code",
   "execution_count": 5,
   "metadata": {},
   "outputs": [],
   "source": [
    "import math\n",
    "\n",
    "h, w, x = input().split()\n",
    "h, w, x = int(h), int(w), int(x)\n",
    "\n",
    "strings = []\n",
    "for i in range(h):\n",
    "    string = input()\n",
    "    strings.append(string)\n",
    "    \n",
    "\n",
    "stringss =\"\"\n",
    "\n",
    "for j in strings:\n",
    "    stringss += j\n",
    "\n",
    "kai = math.ceil(len(stringss)/x)\n",
    "\n",
    "check = False\n",
    "k = 0\n",
    "for i in range(kai):\n",
    "    print(stringss[i*x : (i+1)*x])"
   ]
  },
  {
   "cell_type": "markdown",
   "metadata": {},
   "source": [
    "# C10"
   ]
  },
  {
   "cell_type": "code",
   "execution_count": null,
   "metadata": {},
   "outputs": [],
   "source": [
    "a, b, r = list(map(int,input().split()))\n",
    "n = int(input())\n",
    "\n",
    "for i in range(n):\n",
    "    x, y  = input().split()\n",
    "    x, y = int(x), int(y)\n",
    "    if (x-a)^2 + (y-b)^2 >= r^2:\n",
    "        print(\"silent\")\n",
    "    else:\n",
    "        print(\"noisy\")"
   ]
  },
  {
   "cell_type": "markdown",
   "metadata": {},
   "source": [
    "# C021"
   ]
  },
  {
   "cell_type": "code",
   "execution_count": 102,
   "metadata": {},
   "outputs": [
    {
     "name": "stdout",
     "output_type": "stream",
     "text": [
      "0 0\n",
      "no\n",
      "1 1\n",
      "yes\n",
      "4 2\n",
      "no\n"
     ]
    }
   ],
   "source": [
    "xc, yc, r_1, r_2 = input().split()\n",
    "xc, yc, r_1, r_2 = int(xc), int(yc), int(r_1), int(r_2)\n",
    "\n",
    "n = int(input())\n",
    "\n",
    "for j in range(n):\n",
    "    x, y = input().split()\n",
    "    x,y = int(x), int(y)\n",
    "    \n",
    "    if r_1**2 <= (x-xc)**2 + (y-yc)**2 and r_2**2 >= (x-xc)**2 + (y-yc)**2:\n",
    "        print(\"yes\")\n",
    "    else:\n",
    "        print(\"no\")"
   ]
  },
  {
   "cell_type": "markdown",
   "metadata": {},
   "source": [
    "# C62"
   ]
  },
  {
   "cell_type": "code",
   "execution_count": null,
   "metadata": {},
   "outputs": [],
   "source": [
    "n = int(input())\n",
    "\n",
    "count = 0\n",
    "counta = 0\n",
    "for i in range(n):\n",
    "    neta = input()\n",
    "    \n",
    "    if counta != 0:\n",
    "        counta -= 1\n",
    "        \n",
    "    elif neta == \"melon\":\n",
    "        count += 1\n",
    "        counta =10\n",
    "        \n",
    "    elif neta != \"melon\":\n",
    "        pass\n",
    "print(count)"
   ]
  },
  {
   "cell_type": "markdown",
   "metadata": {},
   "source": [
    "# C23"
   ]
  },
  {
   "cell_type": "code",
   "execution_count": 103,
   "metadata": {},
   "outputs": [
    {
     "name": "stdout",
     "output_type": "stream",
     "text": [
      "1 2 3 4 5 6\n"
     ]
    }
   ],
   "source": [
    "atari = list(map(int,input().split()))\n",
    "\n",
    "n = int(input())\n",
    "\n",
    "for j in range(n): \n",
    "    kuji = list(map(int,input().split()))\n",
    "    count = 0\n",
    "    for i in kuji:\n",
    "        if i in atari:\n",
    "            count += 1\n",
    "    print(count)"
   ]
  },
  {
   "cell_type": "code",
   "execution_count": 110,
   "metadata": {},
   "outputs": [],
   "source": [
    "import math\n",
    "\n",
    "m = int(input())\n",
    "n = int(input())\n",
    "\n",
    "\n",
    "check = 0\n",
    "mais = []\n",
    "keis = []\n",
    "maiss = []\n",
    "for i in range(n):\n",
    "    \n",
    "    if i == 0:\n",
    "        h, mi, mai = input().split()\n",
    "        h, mi, mai = int(h), int(mi), int(mai)\n",
    "        # check = 0に初期化\n",
    "        check = h\n",
    "        mais.append(mai)\n",
    "        \n",
    "    elif i != 0:\n",
    "        h, mi, mai = input().split()\n",
    "        h, mi, mai = int(h), int(mi), int(mai)\n",
    "        \n",
    "        if check == h:\n",
    "            mais.append(mai)\n",
    "            \n",
    "        # 時間が切り替わったら一時処理を終了\n",
    "        elif check != h:\n",
    "            check = h\n",
    "            maiss.append(sum(mais))\n",
    "            kei = math.ceil(sum(mais)/m)\n",
    "            keis.append(kei)\n",
    "            mais =  []\n",
    "            \n",
    "            mais.append(mai)\n",
    "\n",
    "kei = math.ceil(sum(mais)/m)\n",
    "keis.append(kei)\n",
    "print(sum(keis))"
   ]
  },
  {
   "cell_type": "code",
   "execution_count": 141,
   "metadata": {},
   "outputs": [],
   "source": [
    "kei = math.ceil(sum(mais)/m)\n",
    "keis.append(kei)"
   ]
  },
  {
   "cell_type": "code",
   "execution_count": 142,
   "metadata": {},
   "outputs": [
    {
     "data": {
      "text/plain": [
       "[7, 2]"
      ]
     },
     "execution_count": 142,
     "metadata": {},
     "output_type": "execute_result"
    }
   ],
   "source": [
    "keis"
   ]
  },
  {
   "cell_type": "markdown",
   "metadata": {},
   "source": [
    "# C78"
   ]
  },
  {
   "cell_type": "code",
   "execution_count": 8,
   "metadata": {},
   "outputs": [],
   "source": [
    "def main():\n",
    "    n, c_1, c_2 = input().split()\n",
    "    n, c_1, c_2 = int(n), int(c_1), int(c_2)\n",
    "    money = 0\n",
    "    stock = []\n",
    "    for i in range(n):\n",
    "        kabu = int(input())\n",
    "        if kabu <= c_1:\n",
    "            money -= kabu\n",
    "            stock.append(kabu)\n",
    "\n",
    "        elif kabu >= c_1 and kabu < c_2:\n",
    "            pass\n",
    "\n",
    "        elif kabu >= c_2:\n",
    "            money += kabu * len(stock)\n",
    "            stock = []\n",
    "    money += kabu*len(stock)\n",
    "    print(money)\n",
    "    \n",
    "    \n",
    "main()"
   ]
  },
  {
   "cell_type": "markdown",
   "metadata": {},
   "source": [
    "# B68"
   ]
  },
  {
   "cell_type": "code",
   "execution_count": 57,
   "metadata": {},
   "outputs": [
    {
     "name": "stdout",
     "output_type": "stream",
     "text": [
      "AABBB\n",
      "ABBBB\n",
      "AAABB\n"
     ]
    }
   ],
   "source": [
    "h, w = input().split()\n",
    "h, w = int(h), int(w)\n",
    "\n",
    "choco = []\n",
    "\n",
    "for i in range(h):\n",
    "    cho  = list(map(int,input().split()))\n",
    "    choco.append(cho)\n",
    "    \n",
    "check = False\n",
    "splits = []\n",
    "check_num = 0\n",
    "\n",
    "for i in range(h):\n",
    "    \n",
    "    alis = []\n",
    "    bob = choco[i]\n",
    "#     print(alis)\n",
    "#     print(bob)\n",
    "    # 左端をアリスに上げる\n",
    "    \n",
    "    for j in range(w):\n",
    "        alis.append(choco[i][j])\n",
    "#         print(sum(bob)-sum(alis))\n",
    "#         print(sum(alis))\n",
    "        \n",
    "        alis_choco = sum(alis)\n",
    "        bob_choco = sum(bob)-sum(alis)\n",
    "        \n",
    "        if alis_choco == bob_choco:\n",
    "#             print(alis)\n",
    "            \n",
    "            sp = []\n",
    "            for k in range(w):\n",
    "                sp.append(\"B\")\n",
    "                \n",
    "            for s in range(len(alis)):\n",
    "                sp[s] = \"A\"\n",
    "#             print(sp)\n",
    "            splits.append(sp)\n",
    "            \n",
    "            # check_numがhになったらすべての場合で均等に分けられる\n",
    "            check_num += 1\n",
    "        \n",
    "if check_num == h:\n",
    "    print(\"Yes\")\n",
    "    for q in splits:\n",
    "        print(\"\".join(q))\n",
    "        \n",
    "else:\n",
    "    print(\"No\")"
   ]
  },
  {
   "cell_type": "code",
   "execution_count": 53,
   "metadata": {},
   "outputs": [
    {
     "data": {
      "text/plain": [
       "'AAABB'"
      ]
     },
     "execution_count": 53,
     "metadata": {},
     "output_type": "execute_result"
    }
   ],
   "source": [
    "\"\".join(sp)"
   ]
  },
  {
   "cell_type": "code",
   "execution_count": 49,
   "metadata": {},
   "outputs": [
    {
     "data": {
      "text/plain": [
       "[['A', 'A', 'B', 'B', 'B'],\n",
       " ['A', 'B', 'B', 'B', 'B'],\n",
       " ['A', 'A', 'A', 'B', 'B']]"
      ]
     },
     "execution_count": 49,
     "metadata": {},
     "output_type": "execute_result"
    }
   ],
   "source": [
    "splits"
   ]
  },
  {
   "cell_type": "markdown",
   "metadata": {},
   "source": [
    "# B81"
   ]
  },
  {
   "cell_type": "code",
   "execution_count": 224,
   "metadata": {},
   "outputs": [
    {
     "name": "stdout",
     "output_type": "stream",
     "text": [
      "4 4\n",
      ".##.\n",
      ".##.\n",
      ".##.\n",
      ".##.\n",
      "12\n"
     ]
    }
   ],
   "source": [
    "def count_rin(kadans:list, h:int, w:int, max_h:int, max_w:int):\n",
    "    \n",
    "    count = 4\n",
    "    # 一つづつチェック\n",
    "    \n",
    "    # 縦\n",
    "    if h != max_h-1:\n",
    "        if kadans[h+1][w] ==\"#\":\n",
    "            count -= 1\n",
    "            \n",
    "    if h != 0:\n",
    "        if kadans[h-1][w] ==\"#\":\n",
    "            count -= 1\n",
    "        \n",
    "    # 横\n",
    "    if w != max_w-1:\n",
    "        if kadans[h][w+1] ==\"#\":\n",
    "            count -= 1\n",
    "    \n",
    "    if w != 0:\n",
    "        if kadans[h][w-1] ==\"#\":\n",
    "            count -= 1\n",
    "    \n",
    "    return count\n",
    "    \n",
    "h, w = input().split()\n",
    "h, w = int(h), int(w)\n",
    "\n",
    "counts = []\n",
    "\n",
    "# 花壇のリストを作成\n",
    "kadans = []\n",
    "for i in range(h):\n",
    "    \n",
    "    yoko1 = input()\n",
    "    \n",
    "    kadan = []\n",
    "    for  i in range(w):\n",
    "        kadan.append(yoko1[i])\n",
    "        \n",
    "    kadans.append(kadan)\n",
    "    \n",
    "for i in range(h):\n",
    "    \n",
    "    for j in range(w):\n",
    "        \n",
    "        if kadans[i][j] ==\"#\":\n",
    "            count = count_rin(kadans, i, j, h, w)\n",
    "            counts.append(count)\n",
    "            \n",
    "        else:\n",
    "            counts.append(0)\n",
    "            \n",
    "k = 0\n",
    "for i in counts:\n",
    "    k += i\n",
    "print(k)"
   ]
  },
  {
   "cell_type": "markdown",
   "metadata": {},
   "source": [
    "# A34 "
   ]
  },
  {
   "cell_type": "code",
   "execution_count": 111,
   "metadata": {},
   "outputs": [
    {
     "name": "stdout",
     "output_type": "stream",
     "text": [
      "3 300\n"
     ]
    }
   ],
   "source": [
    "import itertools\n",
    "\n",
    "s, m = input().split()\n",
    "s, m = int(s), int(m)\n",
    "\n",
    "kasis = []\n",
    "for i in range(s):\n",
    "    kasi = int(input())\n",
    "    kasis.append(kasi)\n",
    "    \n",
    "moneys = []\n",
    "\n",
    "fin = False\n",
    "\n",
    "# 組み合わせ\n",
    "i = 0\n",
    "\n",
    "while fin == False:\n",
    "    \n",
    "    # 個々から以下で組み合わせで算出する方法\n",
    "    for x in itertools.combinations(kasis, s-i):\n",
    "        set_money = m\n",
    "        \n",
    "        # おつりのチェック\n",
    "        for j in x:\n",
    "            set_money  -= j\n",
    "        \n",
    "        # お釣りが0以上なら加える\n",
    "        if set_money >=0:\n",
    "            moneys.append(set_money)\n",
    "        \n",
    "    \n",
    "    if len(moneys)>=1 and fin == False:\n",
    "        end = moneys\n",
    "        fin = True\n",
    "        # もし組み合わせの最大でset_moneyがプラスになったら処理を止める\n",
    "    \n",
    "    i += 1\n",
    "    \n",
    "print(min(end))"
   ]
  },
  {
   "cell_type": "markdown",
   "metadata": {},
   "source": [
    "# S13"
   ]
  },
  {
   "cell_type": "code",
   "execution_count": null,
   "metadata": {},
   "outputs": [],
   "source": []
  }
 ],
 "metadata": {
  "kernelspec": {
   "display_name": "Python 3.7.2 64-bit",
   "language": "python",
   "name": "python37264bitc6820bcd529848d1aef0990277592879"
  },
  "language_info": {
   "codemirror_mode": {
    "name": "ipython",
    "version": 3
   },
   "file_extension": ".py",
   "mimetype": "text/x-python",
   "name": "python",
   "nbconvert_exporter": "python",
   "pygments_lexer": "ipython3",
   "version": "3.7.2"
  }
 },
 "nbformat": 4,
 "nbformat_minor": 4
}
