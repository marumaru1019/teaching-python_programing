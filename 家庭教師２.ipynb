{
 "cells": [
  {
   "cell_type": "markdown",
   "metadata": {},
   "source": [
    "<h1>目次</h1>\n",
    "<ol class=\"index\" type=\"1\">\n",
    "    <li>復習</li>\n",
    "    <li>list</li>\n",
    "    <li>for</li>\n",
    "    <li>if</li>\n",
    "\n",
    "</ol>"
   ]
  },
  {
   "cell_type": "markdown",
   "metadata": {},
   "source": [
    "## 1.復習"
   ]
  },
  {
   "cell_type": "markdown",
   "metadata": {},
   "source": [
    "①numとgreetingを変数としてそれぞれに1, \"おはよう\"を代入してprintで表示して下さい  \n",
    "\n",
    "②numとgreetingをあわせて \"おはよう1\" と表示させて下さい。  \n",
    "\n",
    "③ log3が 1.2　より大きいか判定して下さい  \n",
    "\n",
    "④ for文を使って5回①で宣言したgreetingに1,2,3と付け足して表示して下さい。"
   ]
  },
  {
   "cell_type": "code",
   "execution_count": 14,
   "metadata": {
    "scrolled": true
   },
   "outputs": [
    {
     "name": "stdout",
     "output_type": "stream",
     "text": [
      "1 おはよう\n"
     ]
    }
   ],
   "source": [
    "num =1\n",
    "greeting =\"おはよう\"\n",
    "\n",
    "print(num, greeting)  "
   ]
  },
  {
   "cell_type": "code",
   "execution_count": 2,
   "metadata": {},
   "outputs": [],
   "source": [
    "import numpy as np"
   ]
  },
  {
   "cell_type": "code",
   "execution_count": 17,
   "metadata": {},
   "outputs": [
    {
     "name": "stdout",
     "output_type": "stream",
     "text": [
      "1\n",
      "おはよう\n"
     ]
    },
    {
     "data": {
      "text/plain": [
       "'おはよう1'"
      ]
     },
     "execution_count": 17,
     "metadata": {},
     "output_type": "execute_result"
    }
   ],
   "source": [
    "#① ②\n",
    "num = 1\n",
    "greeting=\"おはよう\"\n",
    "\n",
    "print(num)\n",
    "print(greeting)\n",
    "\n",
    "greeting+str(num) "
   ]
  },
  {
   "cell_type": "code",
   "execution_count": 18,
   "metadata": {},
   "outputs": [
    {
     "data": {
      "text/plain": [
       "False"
      ]
     },
     "execution_count": 18,
     "metadata": {},
     "output_type": "execute_result"
    }
   ],
   "source": [
    "#　③\n",
    "np.log(3) >1.2\n"
   ]
  },
  {
   "cell_type": "code",
   "execution_count": 4,
   "metadata": {},
   "outputs": [
    {
     "name": "stdout",
     "output_type": "stream",
     "text": [
      "おはよう5\n",
      "おはよう54\n",
      "おはよう543\n",
      "おはよう5432\n",
      "おはよう54321\n"
     ]
    }
   ],
   "source": [
    "# ④\n",
    "\n",
    "# greeting=\"おはよう\"\n",
    "# for i in range(5):\n",
    "#     greeting = greeting+str(i+1)\n",
    "#     print(greeting)\n",
    "    \n",
    "    \n",
    "greeting = \"おはよう\"\n",
    "j = 5\n",
    "for i in range(5):\n",
    "    greeting = greeting + str(j)\n",
    "    print(greeting)\n",
    "    j -= 1"
   ]
  },
  {
   "cell_type": "markdown",
   "metadata": {},
   "source": [
    "# list"
   ]
  },
  {
   "cell_type": "markdown",
   "metadata": {},
   "source": [
    "変数が箱であればlistは複数の要素(変数以外でも)を入れておけるロッカーのようなものです。\n",
    "\n",
    "ロッカーには番号があり、番号にアクセスすることで要素を参照することができます。"
   ]
  },
  {
   "cell_type": "code",
   "execution_count": 6,
   "metadata": {},
   "outputs": [],
   "source": [
    "# listの書き方\n",
    "\n",
    "num1 = 3\n",
    "num2 = 4\n",
    "\n",
    "# [中身1, 中身2] のように宣言していきます。\n",
    "list = [num1, num2]"
   ]
  },
  {
   "cell_type": "code",
   "execution_count": 7,
   "metadata": {},
   "outputs": [
    {
     "data": {
      "text/plain": [
       "[3, 4]"
      ]
     },
     "execution_count": 7,
     "metadata": {},
     "output_type": "execute_result"
    }
   ],
   "source": [
    "list"
   ]
  },
  {
   "cell_type": "markdown",
   "metadata": {},
   "source": [
    "### listのアクセス"
   ]
  },
  {
   "cell_type": "markdown",
   "metadata": {},
   "source": [
    "listの要素にアクセスするには list[番号]　というように定義してあげます。  \n",
    "\n",
    "ここで番号が0から始まることに注意が必要です。"
   ]
  },
  {
   "cell_type": "code",
   "execution_count": 8,
   "metadata": {},
   "outputs": [
    {
     "name": "stdout",
     "output_type": "stream",
     "text": [
      "6\n"
     ]
    }
   ],
   "source": [
    "# listのアクセス\n",
    "\n",
    "list = [1,2,6,3,8]\n",
    "\n",
    "# listの3番目　6にアクセスする\n",
    "\n",
    "list3 = list[2]\n",
    "print(list3)"
   ]
  },
  {
   "cell_type": "markdown",
   "metadata": {},
   "source": [
    "### listの中身の付け足しと更新, 削除\n"
   ]
  },
  {
   "cell_type": "code",
   "execution_count": 15,
   "metadata": {},
   "outputs": [
    {
     "name": "stdout",
     "output_type": "stream",
     "text": [
      "[1, 2, 3, 8]\n"
     ]
    },
    {
     "data": {
      "text/plain": [
       "1"
      ]
     },
     "execution_count": 15,
     "metadata": {},
     "output_type": "execute_result"
    }
   ],
   "source": [
    "locker = [1,2,6,3,8]\n",
    "\n",
    "#listの付け足し locker.append(付け足したい値)とすると最後の要素に追加されます\n",
    "\n",
    "# locker.append(4)\n",
    "\n",
    "# print(locker)\n",
    "\n",
    "# 更新\n",
    "\n",
    "# ## listの3番目の要素を 6 => 11に変更する\n",
    "\n",
    "# locker[2] = 11\n",
    "# print(locker)\n",
    "\n",
    "# #　削除  del list[番号] とします\n",
    "\n",
    "del locker[2]\n",
    "print(locker)\n",
    "\n",
    "a = [\"a\" ,1 ]\n",
    "a[1]"
   ]
  },
  {
   "cell_type": "markdown",
   "metadata": {},
   "source": [
    "### 問題\n",
    "Q1. list1 = [1,2,3,4,5,6] の4番目の要素を\"あいうえお\"に変更して下さい。その後あいうえお\"を削除して下さい。\n",
    "\n",
    "Q2. listを3つ作成し、それぞれをまとめたlistを作ってみましょう。"
   ]
  },
  {
   "cell_type": "code",
   "execution_count": 32,
   "metadata": {},
   "outputs": [
    {
     "data": {
      "text/plain": [
       "[1, 2, 3, 'あいうえお', 5, 6]"
      ]
     },
     "execution_count": 32,
     "metadata": {},
     "output_type": "execute_result"
    }
   ],
   "source": [
    "list1 = [1,2,3,4,5,6]\n",
    "list1[3] =\"あいうえお\"\n",
    "list1"
   ]
  },
  {
   "cell_type": "markdown",
   "metadata": {},
   "source": [
    "# for"
   ]
  },
  {
   "cell_type": "markdown",
   "metadata": {},
   "source": [
    "for　を使うと listの中身を順々に取り出すこともできます。\n",
    "\n",
    "range(回数) => 番号の取り出し\n",
    "\n",
    "list => listの中身を順に取り出し\n"
   ]
  },
  {
   "cell_type": "code",
   "execution_count": 16,
   "metadata": {},
   "outputs": [
    {
     "data": {
      "text/plain": [
       "range(0, 5)"
      ]
     },
     "execution_count": 16,
     "metadata": {},
     "output_type": "execute_result"
    }
   ],
   "source": [
    "range(5)\n",
    "\n",
    "[0,1,2,3,4]"
   ]
  },
  {
   "cell_type": "code",
   "execution_count": 17,
   "metadata": {},
   "outputs": [
    {
     "name": "stdout",
     "output_type": "stream",
     "text": [
      "0\n",
      "2\n",
      "3\n",
      "4\n",
      "5\n",
      "6\n"
     ]
    }
   ],
   "source": [
    "list1 = [0,2,3,4,5,6]\n",
    "\n",
    "for i in list1:\n",
    "    print(i)"
   ]
  },
  {
   "cell_type": "markdown",
   "metadata": {},
   "source": [
    "問題  \n",
    "①list1 = [] でからのリストを作成し, for文を使って最終的に[3,6,9,12]というリストを作成して下さい。\n",
    "\n",
    "② list2 = [1,2,3]を作成しforを使って[2,4,6]が格納されたlist3を作成してください。"
   ]
  },
  {
   "cell_type": "code",
   "execution_count": 18,
   "metadata": {},
   "outputs": [
    {
     "data": {
      "text/plain": [
       "[3, 6, 9, 12]"
      ]
     },
     "execution_count": 18,
     "metadata": {},
     "output_type": "execute_result"
    }
   ],
   "source": [
    "list1 = []\n",
    " \n",
    "    \n",
    "for i in range(4):\n",
    "    list1.append((i + 1)*3)\n",
    "\n",
    "list1"
   ]
  },
  {
   "cell_type": "code",
   "execution_count": 48,
   "metadata": {},
   "outputs": [
    {
     "data": {
      "text/plain": [
       "[2, 4, 6]"
      ]
     },
     "execution_count": 48,
     "metadata": {},
     "output_type": "execute_result"
    }
   ],
   "source": [
    "list2 = [1,2,3] \n",
    "list3 = []\n",
    "\n",
    "for i in list2:\n",
    "    list3.append(i*2)\n",
    "\n",
    "list3"
   ]
  },
  {
   "cell_type": "markdown",
   "metadata": {},
   "source": [
    "# if"
   ]
  },
  {
   "cell_type": "markdown",
   "metadata": {},
   "source": [
    "if を使用すると条件分岐をすることが出来る。\n",
    "\n",
    "(例)numが1以上だと処理をする\n",
    "\n",
    "複数条件を分岐するときにはifの他にelif, elseで分岐をする。\n",
    "\n",
    "(例)numが3以上だと処理1, numが1以上3未満だと処理2, それ以外だと処理3をする"
   ]
  },
  {
   "cell_type": "markdown",
   "metadata": {},
   "source": [
    "条件式には以下のようなものがある  \n",
    "\n",
    "a == b  等しい\n",
    "\n",
    "a != b  等しくない\n",
    "\n",
    "a>b より大きい　　逆でより小さい\n",
    "\n",
    "a >= b 以上　　　逆で以下\n",
    "\n",
    "またorやandを使うことで複数条件にすることが出来る。\n",
    "\n",
    "a == b or a == c   \n",
    "\n",
    "a !=b and a >c\n",
    "\n"
   ]
  },
  {
   "cell_type": "code",
   "execution_count": 54,
   "metadata": {},
   "outputs": [
    {
     "data": {
      "text/plain": [
       "'\\nif 条件1:  \\n    処理1\\n    \\nelif 条件2:  \\n    処理2\\n\\nelse:  \\n    処理3\\n'"
      ]
     },
     "execution_count": 54,
     "metadata": {},
     "output_type": "execute_result"
    }
   ],
   "source": [
    "#　書き方\n",
    "\n",
    "'''\n",
    "if 条件1:  \n",
    "    処理1\n",
    "    \n",
    "elif 条件2:  \n",
    "    処理2\n",
    "\n",
    "else:  \n",
    "    処理3\n",
    "'''"
   ]
  },
  {
   "cell_type": "markdown",
   "metadata": {},
   "source": [
    "### 実装\n",
    "\n",
    "(例)numが3以上だと処理1, numが1以上3未満だと処理2, それ以外だと処理3をする"
   ]
  },
  {
   "cell_type": "code",
   "execution_count": 22,
   "metadata": {},
   "outputs": [],
   "source": [
    "num =6"
   ]
  },
  {
   "cell_type": "code",
   "execution_count": 23,
   "metadata": {},
   "outputs": [
    {
     "name": "stdout",
     "output_type": "stream",
     "text": [
      "3以上\n"
     ]
    }
   ],
   "source": [
    "if num >=3:\n",
    "    print(\"3以上\")\n",
    "\n",
    "elif num >=1 and num <3:\n",
    "    print(\"1以上3未満\")\n",
    "\n",
    "else:\n",
    "    print(\"それ以外\")"
   ]
  },
  {
   "cell_type": "markdown",
   "metadata": {},
   "source": [
    "いかのようににfor文とif文を組み合わせることもできる。"
   ]
  },
  {
   "cell_type": "code",
   "execution_count": 28,
   "metadata": {},
   "outputs": [
    {
     "name": "stdout",
     "output_type": "stream",
     "text": [
      "それ以外\n",
      "1以上3未満\n",
      "3以上\n"
     ]
    }
   ],
   "source": [
    "list1 = [-1,2,5]\n",
    "\n",
    "for i in list1:\n",
    "    \n",
    "    #numにlistの中身をセット\n",
    "    num = i\n",
    "    \n",
    "    if num >=3:\n",
    "        print(\"3以上\")\n",
    "\n",
    "    elif num >=1 and num <3:\n",
    "        print(\"1以上3未満\")\n",
    "\n",
    "    else:\n",
    "        print(\"それ以外\")"
   ]
  },
  {
   "cell_type": "code",
   "execution_count": null,
   "metadata": {},
   "outputs": [],
   "source": [
    "fizz buzz fizzbuzz"
   ]
  },
  {
   "cell_type": "markdown",
   "metadata": {},
   "source": [
    "問題\n",
    "\n",
    "list1 = [-1,2,5,3,7,4]をセットし この中の3以上6未満の値だけ取り出してlist2に格納して下さい。"
   ]
  },
  {
   "cell_type": "code",
   "execution_count": 29,
   "metadata": {},
   "outputs": [],
   "source": [
    "list1 = [-1,2,5,3,7,4]\n",
    "list2 = []\n",
    "\n",
    "for i in list1:\n",
    "    \n",
    "    if i >=3 and i<6:\n",
    "        list2.append(i)\n",
    "    \n",
    "    else:\n",
    "        pass\n"
   ]
  },
  {
   "cell_type": "code",
   "execution_count": 26,
   "metadata": {},
   "outputs": [
    {
     "data": {
      "text/plain": [
       "[5, 3, 4]"
      ]
     },
     "execution_count": 26,
     "metadata": {},
     "output_type": "execute_result"
    }
   ],
   "source": [
    "list2"
   ]
  },
  {
   "cell_type": "code",
   "execution_count": 32,
   "metadata": {},
   "outputs": [
    {
     "name": "stdout",
     "output_type": "stream",
     "text": [
      "1\n"
     ]
    }
   ],
   "source": [
    "a = input()"
   ]
  },
  {
   "cell_type": "code",
   "execution_count": 33,
   "metadata": {},
   "outputs": [
    {
     "data": {
      "text/plain": [
       "str"
      ]
     },
     "execution_count": 33,
     "metadata": {},
     "output_type": "execute_result"
    }
   ],
   "source": [
    "type(a)"
   ]
  },
  {
   "cell_type": "code",
   "execution_count": null,
   "metadata": {},
   "outputs": [],
   "source": []
  },
  {
   "cell_type": "code",
   "execution_count": null,
   "metadata": {},
   "outputs": [],
   "source": []
  },
  {
   "cell_type": "code",
   "execution_count": null,
   "metadata": {},
   "outputs": [],
   "source": []
  },
  {
   "cell_type": "code",
   "execution_count": null,
   "metadata": {},
   "outputs": [],
   "source": []
  },
  {
   "cell_type": "code",
   "execution_count": 46,
   "metadata": {},
   "outputs": [
    {
     "name": "stdout",
     "output_type": "stream",
     "text": [
      "30\n"
     ]
    }
   ],
   "source": [
    "num = int(input())"
   ]
  },
  {
   "cell_type": "code",
   "execution_count": 48,
   "metadata": {},
   "outputs": [
    {
     "name": "stdout",
     "output_type": "stream",
     "text": [
      "1\n",
      "2\n",
      "fizz\n",
      "4\n",
      "buzz\n",
      "fizz\n",
      "7\n",
      "8\n",
      "fizz\n",
      "buzz\n",
      "11\n",
      "fizz\n",
      "13\n",
      "14\n",
      "fizzbuzz\n",
      "16\n",
      "17\n",
      "fizz\n",
      "19\n",
      "buzz\n",
      "fizz\n",
      "22\n",
      "23\n",
      "fizz\n",
      "buzz\n",
      "26\n",
      "fizz\n",
      "28\n",
      "29\n",
      "fizzbuzz\n"
     ]
    }
   ],
   "source": [
    "for i in range(num+1):\n",
    "    \n",
    "    if i ==0:\n",
    "        pass\n",
    "    elif i %3 == 0 and i%5 ==0:\n",
    "        print(\"fizzbuzz\")\n",
    "    elif i %3 == 0:\n",
    "        print(\"fizz\")\n",
    "    elif i%5 == 0:\n",
    "        print(\"buzz\")\n",
    "    else:\n",
    "        print(i)"
   ]
  },
  {
   "cell_type": "code",
   "execution_count": 57,
   "metadata": {},
   "outputs": [
    {
     "data": {
      "text/plain": [
       "True"
      ]
     },
     "execution_count": 57,
     "metadata": {},
     "output_type": "execute_result"
    }
   ],
   "source": [
    "\"1\" in \"12\""
   ]
  },
  {
   "cell_type": "code",
   "execution_count": 58,
   "metadata": {},
   "outputs": [
    {
     "name": "stdout",
     "output_type": "stream",
     "text": [
      "\n",
      "\n"
     ]
    },
    {
     "ename": "ValueError",
     "evalue": "invalid literal for int() with base 10: ''",
     "output_type": "error",
     "traceback": [
      "\u001b[0;31m---------------------------------------------------------------------------\u001b[0m",
      "\u001b[0;31mValueError\u001b[0m                                Traceback (most recent call last)",
      "\u001b[0;32m<ipython-input-58-26c77ee6ea1a>\u001b[0m in \u001b[0;36m<module>\u001b[0;34m\u001b[0m\n\u001b[1;32m      1\u001b[0m \u001b[0mdis\u001b[0m \u001b[0;34m=\u001b[0m \u001b[0minput\u001b[0m\u001b[0;34m(\u001b[0m\u001b[0;34m)\u001b[0m\u001b[0;34m\u001b[0m\u001b[0;34m\u001b[0m\u001b[0m\n\u001b[0;32m----> 2\u001b[0;31m \u001b[0mnum\u001b[0m \u001b[0;34m=\u001b[0m \u001b[0mint\u001b[0m\u001b[0;34m(\u001b[0m\u001b[0minput\u001b[0m\u001b[0;34m(\u001b[0m\u001b[0;34m)\u001b[0m\u001b[0;34m)\u001b[0m\u001b[0;34m\u001b[0m\u001b[0;34m\u001b[0m\u001b[0m\n\u001b[0m\u001b[1;32m      3\u001b[0m \u001b[0mk\u001b[0m \u001b[0;34m=\u001b[0m \u001b[0;34m[\u001b[0m\u001b[0minput\u001b[0m\u001b[0;34m(\u001b[0m\u001b[0;34m)\u001b[0m \u001b[0;32mfor\u001b[0m \u001b[0mi\u001b[0m \u001b[0;32min\u001b[0m \u001b[0mrange\u001b[0m\u001b[0;34m(\u001b[0m\u001b[0mnum\u001b[0m\u001b[0;34m)\u001b[0m\u001b[0;34m]\u001b[0m\u001b[0;34m\u001b[0m\u001b[0;34m\u001b[0m\u001b[0m\n\u001b[1;32m      4\u001b[0m \u001b[0;34m\u001b[0m\u001b[0m\n\u001b[1;32m      5\u001b[0m \u001b[0;32mfor\u001b[0m \u001b[0mi\u001b[0m \u001b[0;32min\u001b[0m \u001b[0mk\u001b[0m\u001b[0;34m:\u001b[0m\u001b[0;34m\u001b[0m\u001b[0;34m\u001b[0m\u001b[0m\n",
      "\u001b[0;31mValueError\u001b[0m: invalid literal for int() with base 10: ''"
     ]
    }
   ],
   "source": [
    "dis = input()\n",
    "num = int(input())\n",
    "k = [input() for i in range(num)]\n",
    "\n",
    "\n",
    "j = 0\n",
    "for i in k:\n",
    "    if dis in i:\n",
    "        pass\n",
    "    else:\n",
    "        print(i)\n",
    "        j += 1\n",
    "    \n",
    "if j == 0:\n",
    "    print(\"none\")\n"
   ]
  },
  {
   "cell_type": "code",
   "execution_count": 54,
   "metadata": {},
   "outputs": [
    {
     "data": {
      "text/plain": [
       "['d', 'd', 's', 'w']"
      ]
     },
     "execution_count": 54,
     "metadata": {},
     "output_type": "execute_result"
    }
   ],
   "source": [
    "k"
   ]
  },
  {
   "cell_type": "code",
   "execution_count": 61,
   "metadata": {},
   "outputs": [
    {
     "name": "stdout",
     "output_type": "stream",
     "text": [
      "dddd\n"
     ]
    },
    {
     "data": {
      "text/plain": [
       "'dddd'"
      ]
     },
     "execution_count": 61,
     "metadata": {},
     "output_type": "execute_result"
    }
   ],
   "source": [
    "boin = [\"a\", \"e\", \"i\", \"o\", \"u\", \"A\" ,\"E\", \"I\", \"O\" ,\"U\"]\n",
    "\n",
    "s = input()\n",
    "\n",
    "S = [i for i in s]\n",
    "\n"
   ]
  },
  {
   "cell_type": "code",
   "execution_count": 62,
   "metadata": {},
   "outputs": [
    {
     "data": {
      "text/plain": [
       "['d', 'd', 'd', 'd']"
      ]
     },
     "execution_count": 62,
     "metadata": {},
     "output_type": "execute_result"
    }
   ],
   "source": [
    "S"
   ]
  },
  {
   "cell_type": "code",
   "execution_count": null,
   "metadata": {},
   "outputs": [],
   "source": []
  }
 ],
 "metadata": {
  "kernelspec": {
   "display_name": "Python 3.7.2 64-bit",
   "language": "python",
   "name": "python37264bitc6820bcd529848d1aef0990277592879"
  },
  "language_info": {
   "codemirror_mode": {
    "name": "ipython",
    "version": 3
   },
   "file_extension": ".py",
   "mimetype": "text/x-python",
   "name": "python",
   "nbconvert_exporter": "python",
   "pygments_lexer": "ipython3",
   "version": "3.7.2"
  }
 },
 "nbformat": 4,
 "nbformat_minor": 4
}
