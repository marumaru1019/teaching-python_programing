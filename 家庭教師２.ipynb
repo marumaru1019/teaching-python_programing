{
 "cells": [
  {
   "cell_type": "markdown",
   "metadata": {},
   "source": [
    "<h1>目次</h1>\n",
    "<ol class=\"index\" type=\"1\">\n",
    "    <li>復習</li>\n",
    "    <li>list</li>\n",
    "    <li>for</li>\n",
    "    <li>if</li>\n",
    "\n",
    "</ol>"
   ]
  },
  {
   "cell_type": "markdown",
   "metadata": {},
   "source": [
    "## 1.復習"
   ]
  },
  {
   "cell_type": "markdown",
   "metadata": {},
   "source": [
    "①numとgreetingを変数としてそれぞれに1, \"おはよう\"を代入してprintで表示して下さい  \n",
    "\n",
    "②numとgreetingをあわせて \"おはよう1\" と表示させて下さい。  \n",
    "\n",
    "③ log3が 1.2　より大きいか判定して下さい  \n",
    "\n",
    "④ for文を使って5回①で宣言したgreetingに1,2,3と付け足して表示して下さい。"
   ]
  },
  {
   "cell_type": "code",
   "execution_count": 2,
   "metadata": {},
   "outputs": [],
   "source": [
    "import numpy as np"
   ]
  },
  {
   "cell_type": "code",
   "execution_count": 17,
   "metadata": {},
   "outputs": [
    {
     "name": "stdout",
     "output_type": "stream",
     "text": [
      "1\n",
      "おはよう\n"
     ]
    },
    {
     "data": {
      "text/plain": [
       "'おはよう1'"
      ]
     },
     "execution_count": 17,
     "metadata": {},
     "output_type": "execute_result"
    }
   ],
   "source": [
    "#① ②\n",
    "num = 1\n",
    "greeting=\"おはよう\"\n",
    "\n",
    "print(num)\n",
    "print(greeting)\n",
    "\n",
    "greeting+str(num) "
   ]
  },
  {
   "cell_type": "code",
   "execution_count": 18,
   "metadata": {},
   "outputs": [
    {
     "data": {
      "text/plain": [
       "False"
      ]
     },
     "execution_count": 18,
     "metadata": {},
     "output_type": "execute_result"
    }
   ],
   "source": [
    "#　③\n",
    "np.log(3) >1.2\n"
   ]
  },
  {
   "cell_type": "code",
   "execution_count": 13,
   "metadata": {},
   "outputs": [
    {
     "name": "stdout",
     "output_type": "stream",
     "text": [
      "おはよう1\n",
      "おはよう12\n",
      "おはよう123\n",
      "おはよう1234\n",
      "おはよう12345\n"
     ]
    }
   ],
   "source": [
    "# ④\n",
    "\n",
    "greeting=\"おはよう\"\n",
    "for i in range(5):\n",
    "    greeting = greeting+str(i+1)\n",
    "    print(greeting)"
   ]
  },
  {
   "cell_type": "markdown",
   "metadata": {},
   "source": [
    "# list"
   ]
  },
  {
   "cell_type": "markdown",
   "metadata": {},
   "source": [
    "変数が箱であればlistは複数の要素(変数以外でも)を入れておけるロッカーのようなものです。\n",
    "\n",
    "ロッカーには番号があり、番号にアクセスすることで要素を参照することができます。"
   ]
  },
  {
   "cell_type": "code",
   "execution_count": 20,
   "metadata": {},
   "outputs": [],
   "source": [
    "# listの書き方\n",
    "\n",
    "num1 = 3\n",
    "num2 = 4\n",
    "\n",
    "# [中身1, 中身2] のように宣言していきます。\n",
    "list = [num1, num2]"
   ]
  },
  {
   "cell_type": "markdown",
   "metadata": {},
   "source": [
    "### listのアクセス"
   ]
  },
  {
   "cell_type": "markdown",
   "metadata": {},
   "source": [
    "listの要素にアクセスするには list[番号]　というように定義してあげます。  \n",
    "\n",
    "ここで番号が0から始まることに注意が必要です。"
   ]
  },
  {
   "cell_type": "code",
   "execution_count": 22,
   "metadata": {},
   "outputs": [
    {
     "name": "stdout",
     "output_type": "stream",
     "text": [
      "6\n"
     ]
    }
   ],
   "source": [
    "# listのアクセス\n",
    "\n",
    "list = [1,2,6,3,8]\n",
    "\n",
    "# listの3番目　6にアクセスする\n",
    "\n",
    "list3 = list[2]\n",
    "print(list3)"
   ]
  },
  {
   "cell_type": "markdown",
   "metadata": {},
   "source": [
    "### listの中身の付け足しと更新, 削除\n"
   ]
  },
  {
   "cell_type": "code",
   "execution_count": 29,
   "metadata": {},
   "outputs": [
    {
     "name": "stdout",
     "output_type": "stream",
     "text": [
      "[1, 2, 6, 3, 8, 4]\n",
      "[1, 2, 11, 3, 8, 4]\n",
      "[1, 2, 3, 8, 4]\n"
     ]
    }
   ],
   "source": [
    "list = [1,2,6,3,8]\n",
    "\n",
    "#listの付け足し list.append(付け足したい値)とすると最後の要素に追加されます\n",
    "\n",
    "list.append(4)\n",
    "\n",
    "print(list)\n",
    "\n",
    "# 更新\n",
    "\n",
    "## listの3番目の要素を 6 => 11に変更する\n",
    "\n",
    "list[2] = 11\n",
    "print(list)\n",
    "\n",
    "#　削除  del list[番号] とします\n",
    "\n",
    "del list[2]\n",
    "print(list)"
   ]
  },
  {
   "cell_type": "markdown",
   "metadata": {},
   "source": [
    "### 問題\n",
    "Q1. list1 = [1,2,3,4,5,6] の4番目の要素を\"あいうえお\"に変更して下さい。その後あいうえお\"を削除して下さい。\n",
    "\n",
    "Q2. listを3つ作成し、それぞれをまとめたlistを作ってみましょう。"
   ]
  },
  {
   "cell_type": "code",
   "execution_count": 32,
   "metadata": {},
   "outputs": [
    {
     "data": {
      "text/plain": [
       "[1, 2, 3, 'あいうえお', 5, 6]"
      ]
     },
     "execution_count": 32,
     "metadata": {},
     "output_type": "execute_result"
    }
   ],
   "source": [
    "list1 = [1,2,3,4,5,6]\n",
    "list1[3] =\"あいうえお\"\n",
    "list1"
   ]
  },
  {
   "cell_type": "markdown",
   "metadata": {},
   "source": [
    "# for"
   ]
  },
  {
   "cell_type": "markdown",
   "metadata": {},
   "source": [
    "for　を使うと listの中身を順々に取り出すこともできます。\n",
    "\n",
    "range(回数) => 番号の取り出し\n",
    "\n",
    "list => listの中身を順に取り出し\n"
   ]
  },
  {
   "cell_type": "code",
   "execution_count": 35,
   "metadata": {},
   "outputs": [
    {
     "name": "stdout",
     "output_type": "stream",
     "text": [
      "1\n",
      "2\n",
      "3\n",
      "4\n",
      "5\n",
      "6\n"
     ]
    }
   ],
   "source": [
    "list1 = [1,2,3,4,5,6]\n",
    "for i in list1:\n",
    "    print(i)"
   ]
  },
  {
   "cell_type": "markdown",
   "metadata": {},
   "source": [
    "問題  \n",
    "①list1 = [] でからのリストを作成し, for文を使って最終的に[3,6,9,12]というリストを作成して下さい。\n",
    "\n",
    "② list2 = [1,2,3]を作成しforを使って[2,4,6]が格納されたlist3を作成してください。"
   ]
  },
  {
   "cell_type": "code",
   "execution_count": 44,
   "metadata": {},
   "outputs": [],
   "source": [
    "list1 = []\n",
    " \n",
    "    \n",
    "for i in range(4):\n",
    "    list1.append((i + 1)*3)\n",
    "    "
   ]
  },
  {
   "cell_type": "code",
   "execution_count": 45,
   "metadata": {},
   "outputs": [
    {
     "data": {
      "text/plain": [
       "[3, 6, 9, 12]"
      ]
     },
     "execution_count": 45,
     "metadata": {},
     "output_type": "execute_result"
    }
   ],
   "source": [
    "list1"
   ]
  },
  {
   "cell_type": "code",
   "execution_count": 48,
   "metadata": {},
   "outputs": [
    {
     "data": {
      "text/plain": [
       "[2, 4, 6]"
      ]
     },
     "execution_count": 48,
     "metadata": {},
     "output_type": "execute_result"
    }
   ],
   "source": [
    "list2 = [1,2,3] \n",
    "list3 = []\n",
    "\n",
    "for i in list2:\n",
    "    list3.append(i*2)\n",
    "\n",
    "list3"
   ]
  },
  {
   "cell_type": "markdown",
   "metadata": {},
   "source": [
    "# if"
   ]
  },
  {
   "cell_type": "markdown",
   "metadata": {},
   "source": [
    "if を使用すると条件分岐をすることが出来る。\n",
    "\n",
    "(例)numが1以上だと処理をする\n",
    "\n",
    "複数条件を分岐するときにはifの他にelif, elseで分岐をする。\n",
    "\n",
    "(例)numが3以上だと処理1, numが1以上3未満だと処理2, それ以外だと処理3をする"
   ]
  },
  {
   "cell_type": "markdown",
   "metadata": {},
   "source": [
    "条件式には以下のようなものがある  \n",
    "\n",
    "a == b  等しい\n",
    "\n",
    "a != b  等しくない\n",
    "\n",
    "a>b より大きい　　逆でより小さい\n",
    "\n",
    "a >= b 以上　　　逆で以下\n",
    "\n",
    "またorやandを使うことで複数条件にすることが出来る。\n",
    "\n",
    "a == b or a == c   \n",
    "\n",
    "a !=b and a >c\n",
    "\n"
   ]
  },
  {
   "cell_type": "code",
   "execution_count": 54,
   "metadata": {},
   "outputs": [
    {
     "data": {
      "text/plain": [
       "'\\nif 条件1:  \\n    処理1\\n    \\nelif 条件2:  \\n    処理2\\n\\nelse:  \\n    処理3\\n'"
      ]
     },
     "execution_count": 54,
     "metadata": {},
     "output_type": "execute_result"
    }
   ],
   "source": [
    "#　書き方\n",
    "\n",
    "'''\n",
    "if 条件1:  \n",
    "    処理1\n",
    "    \n",
    "elif 条件2:  \n",
    "    処理2\n",
    "\n",
    "else:  \n",
    "    処理3\n",
    "'''"
   ]
  },
  {
   "cell_type": "markdown",
   "metadata": {},
   "source": [
    "### 実装\n",
    "\n",
    "(例)numが3以上だと処理1, numが1以上3未満だと処理2, それ以外だと処理3をする"
   ]
  },
  {
   "cell_type": "code",
   "execution_count": 60,
   "metadata": {},
   "outputs": [],
   "source": [
    "num =0"
   ]
  },
  {
   "cell_type": "code",
   "execution_count": 61,
   "metadata": {},
   "outputs": [
    {
     "name": "stdout",
     "output_type": "stream",
     "text": [
      "それ以外\n"
     ]
    }
   ],
   "source": [
    "if num >=3:\n",
    "    print(\"3以上\")\n",
    "\n",
    "elif num >=1 and num <3:\n",
    "    print(\"1以上3未満\")\n",
    "\n",
    "else:\n",
    "    print(\"それ以外\")"
   ]
  },
  {
   "cell_type": "markdown",
   "metadata": {},
   "source": [
    "いかのようににfor文とif文を組み合わせることもできる。"
   ]
  },
  {
   "cell_type": "code",
   "execution_count": 67,
   "metadata": {},
   "outputs": [
    {
     "name": "stdout",
     "output_type": "stream",
     "text": [
      "それ以外\n",
      "1以上3未満\n",
      "3以上\n"
     ]
    }
   ],
   "source": [
    "list1 = [-1,2,5]\n",
    "\n",
    "for i in list1:\n",
    "    \n",
    "    #numにlistの中身をセット\n",
    "    num = i\n",
    "    \n",
    "    if num >=3:\n",
    "        print(\"3以上\")\n",
    "\n",
    "    elif num >=1 and num <3:\n",
    "        print(\"1以上3未満\")\n",
    "\n",
    "    else:\n",
    "        print(\"それ以外\")"
   ]
  },
  {
   "cell_type": "markdown",
   "metadata": {},
   "source": [
    "問題\n",
    "\n",
    "list1 = [-1,2,5,3,7,4]をセットし この中の3以上6未満の値だけ取り出してlist2に格納して下さい。"
   ]
  },
  {
   "cell_type": "code",
   "execution_count": 69,
   "metadata": {},
   "outputs": [],
   "source": [
    "list1 = [-1,2,5,3,7,4]\n",
    "list2 = []\n",
    "\n",
    "for i in list1:\n",
    "    \n",
    "    if i >=3 and i<6:\n",
    "        list2.append(i)\n",
    "    \n",
    "    else:\n",
    "        pass\n"
   ]
  },
  {
   "cell_type": "code",
   "execution_count": 70,
   "metadata": {},
   "outputs": [
    {
     "data": {
      "text/plain": [
       "[5, 3, 4]"
      ]
     },
     "execution_count": 70,
     "metadata": {},
     "output_type": "execute_result"
    }
   ],
   "source": [
    "list2"
   ]
  },
  {
   "cell_type": "code",
   "execution_count": null,
   "metadata": {},
   "outputs": [],
   "source": []
  }
 ],
 "metadata": {
  "kernelspec": {
   "display_name": "Python 3.7.2 64-bit",
   "language": "python",
   "name": "python37264bitc6820bcd529848d1aef0990277592879"
  },
  "language_info": {
   "codemirror_mode": {
    "name": "ipython",
    "version": 3
   },
   "file_extension": ".py",
   "mimetype": "text/x-python",
   "name": "python",
   "nbconvert_exporter": "python",
   "pygments_lexer": "ipython3",
   "version": "3.7.2"
  }
 },
 "nbformat": 4,
 "nbformat_minor": 4
}
